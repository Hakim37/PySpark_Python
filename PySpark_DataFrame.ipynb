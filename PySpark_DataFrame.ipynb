{
 "cells": [
  {
   "cell_type": "markdown",
   "metadata": {},
   "source": [
    "## Pyspart installation and tutorial point for easy way"
   ]
  },
  {
   "cell_type": "code",
   "execution_count": 1,
   "metadata": {},
   "outputs": [],
   "source": [
    "import pyspark"
   ]
  },
  {
   "cell_type": "code",
   "execution_count": 2,
   "metadata": {
    "scrolled": true
   },
   "outputs": [
    {
     "name": "stdout",
     "output_type": "stream",
     "text": [
      "Requirement already satisfied: pyspark[sql] in c:\\users\\hakim rajpoot\\anaconda3\\lib\\site-packages (3.1.2)\n",
      "Requirement already satisfied: py4j==0.10.9 in c:\\users\\hakim rajpoot\\anaconda3\\lib\\site-packages (from pyspark[sql]) (0.10.9)\n",
      "Requirement already satisfied: pandas>=0.23.2; extra == \"sql\" in c:\\users\\hakim rajpoot\\anaconda3\\lib\\site-packages (from pyspark[sql]) (0.24.2)\n",
      "Requirement already satisfied: pyarrow>=1.0.0; extra == \"sql\" in c:\\users\\hakim rajpoot\\anaconda3\\lib\\site-packages (from pyspark[sql]) (5.0.0)\n",
      "Requirement already satisfied: pytz>=2011k in c:\\users\\hakim rajpoot\\anaconda3\\lib\\site-packages (from pandas>=0.23.2; extra == \"sql\"->pyspark[sql]) (2019.1)\n",
      "Requirement already satisfied: numpy>=1.12.0 in c:\\users\\hakim rajpoot\\anaconda3\\lib\\site-packages (from pandas>=0.23.2; extra == \"sql\"->pyspark[sql]) (1.21.2)\n",
      "Requirement already satisfied: python-dateutil>=2.5.0 in c:\\users\\hakim rajpoot\\anaconda3\\lib\\site-packages (from pandas>=0.23.2; extra == \"sql\"->pyspark[sql]) (2.8.0)\n",
      "Requirement already satisfied: six>=1.5 in c:\\users\\hakim rajpoot\\anaconda3\\lib\\site-packages (from python-dateutil>=2.5.0->pandas>=0.23.2; extra == \"sql\"->pyspark[sql]) (1.12.0)\n"
     ]
    }
   ],
   "source": [
    "!pip install pyspark[sql]"
   ]
  },
  {
   "cell_type": "markdown",
   "metadata": {},
   "source": [
    "### PySpart with sql for data base connection "
   ]
  },
  {
   "cell_type": "code",
   "execution_count": 3,
   "metadata": {},
   "outputs": [],
   "source": [
    "from pyspark.sql import SparkSession"
   ]
  },
  {
   "cell_type": "markdown",
   "metadata": {},
   "source": [
    "### PySpark DataFrame from list of rows"
   ]
  },
  {
   "cell_type": "code",
   "execution_count": null,
   "metadata": {},
   "outputs": [],
   "source": [
    "from  datetime  import  datetime,  date\n",
    "import  pandas  as  pd\n",
    "from  pyspark.sql  import  Row\n",
    "\n",
    "\n",
    "df = pyspark.createDataFrame([\n",
    "    Row(a=1,  b=2.,  c='string1',  d=date(2000,  1,  1),  e=datetime(2000,  1,  1,  12,  0)),\n",
    "    Row(a=2,  b=3.,  c='string2',  d=date(2000,  2,  1),  e=datetime(2000,  1,  2,  12,  0)),\n",
    "    Row(a=4,  b=5.,  c='string3',  d=date(2000,  3,  1),  e=datetime(2000,  1,  3,  12,  0))])\n",
    "df"
   ]
  }
 ],
 "metadata": {
  "kernelspec": {
   "display_name": "Python 3",
   "language": "python",
   "name": "python3"
  },
  "language_info": {
   "codemirror_mode": {
    "name": "ipython",
    "version": 3
   },
   "file_extension": ".py",
   "mimetype": "text/x-python",
   "name": "python",
   "nbconvert_exporter": "python",
   "pygments_lexer": "ipython3",
   "version": "3.7.3"
  }
 },
 "nbformat": 4,
 "nbformat_minor": 2
}
